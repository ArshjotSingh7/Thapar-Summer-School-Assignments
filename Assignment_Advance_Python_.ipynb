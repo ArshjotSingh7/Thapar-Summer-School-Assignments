{
  "nbformat": 4,
  "nbformat_minor": 0,
  "metadata": {
    "colab": {
      "provenance": [],
      "authorship_tag": "ABX9TyOR+32TKiYrCx3kXLTfgeYQ",
      "include_colab_link": true
    },
    "kernelspec": {
      "name": "python3",
      "display_name": "Python 3"
    },
    "language_info": {
      "name": "python"
    }
  },
  "cells": [
    {
      "cell_type": "markdown",
      "metadata": {
        "id": "view-in-github",
        "colab_type": "text"
      },
      "source": [
        "<a href=\"https://colab.research.google.com/github/ArshjotSingh7/Thapar-Summer-School-Assignments/blob/main/Assignment_Advance_Python_.ipynb\" target=\"_parent\"><img src=\"https://colab.research.google.com/assets/colab-badge.svg\" alt=\"Open In Colab\"/></a>"
      ]
    },
    {
      "cell_type": "code",
      "execution_count": null,
      "metadata": {
        "id": "3v-Xh23CX59u"
      },
      "outputs": [],
      "source": [
        "#Q1\n",
        "import random as r\n",
        "import string\n",
        "no_of_lines = 1000\n",
        "string_length = 5\n",
        "\n",
        "with open('random_strings.txt','w') as file:\n",
        "  for i in range(no_of_lines):\n",
        "    random_string = ''.join(r.choices(string.ascii_letters + string.digits, k = string_length))\n",
        "    file.write(random_string + '\\n')\n",
        ""
      ]
    },
    {
      "cell_type": "code",
      "source": [
        "#Q2\n",
        "import random as r\n",
        "import string as str\n",
        "\n",
        "file_size = 5*1024*1024\n",
        "\n",
        "with open('random_strings.txt','wb') as file:\n",
        "  while file.tell() < file_size:\n",
        "    random_string= ''.join(r.choices(str.ascii_letters + str.digits,k =3))\n",
        "    file.write(random_string.encode() + b'\\n')"
      ],
      "metadata": {
        "id": "wXHo1tN_0qpo"
      },
      "execution_count": null,
      "outputs": []
    },
    {
      "cell_type": "code",
      "source": [
        "#Q3\n",
        "import random as r\n",
        "import string as str\n",
        "\n",
        "file_size = 5*1024*1024\n",
        "num_files = 10\n",
        "\n",
        "for file_num in range(num_files):\n",
        "  file_name = f'random_strings_{file_num}.txt'\n",
        "\n",
        "  with open(file_name,'wb') as file:\n",
        "    while file.tell()< file_size:\n",
        "      random_string = ''.join(r.choices(str.ascii_letters + str.digits, k=10))\n",
        "      file.write(random_string.encode() + b'\\n')"
      ],
      "metadata": {
        "id": "5_VpHz1p0tZ5"
      },
      "execution_count": null,
      "outputs": []
    },
    {
      "cell_type": "code",
      "source": [
        "#Q4,Q5\n",
        "import random\n",
        "import string\n",
        "\n",
        "# Function to generate random strings\n",
        "def generate_random_strings(num_lines):\n",
        "    random_strings = []\n",
        "    for _ in range(num_lines):\n",
        "        random_string = ''.join(random.choices(string.ascii_letters + string.digits, k=10))\n",
        "        random_strings.append(random_string)\n",
        "    return random_strings\n",
        "\n",
        "# Function to write random strings to a file\n",
        "def write_random_strings_to_file(file_path, random_strings):\n",
        "    with open(file_path, 'w') as file:\n",
        "        file.writelines('\\n'.join(random_strings))\n",
        "\n",
        "# Function to convert file contents to uppercase\n",
        "def convert_file_to_uppercase(file_path):\n",
        "    with open(file_path, 'r') as file:\n",
        "        lines = file.readlines()\n",
        "        uppercase_lines = [line.upper() for line in lines]\n",
        "    with open(file_path, 'w') as file:\n",
        "        file.writelines(uppercase_lines)\n",
        "\n",
        "# File sizes in bytes\n",
        "file_sizes = [1 * 1024**2, 2 * 1024**2, 3 * 1024**2, 4 * 1024**2, 5 * 1024**2]\n",
        "\n",
        "# Generate and convert files\n",
        "for i, size in enumerate(file_sizes):\n",
        "    # Generate random strings\n",
        "    num_lines = size // 50  # Approximate number of lines based on average line size\n",
        "    random_strings = generate_random_strings(num_lines)\n",
        "\n",
        "    # Create file\n",
        "    file_path = f'file_{i}.txt'\n",
        "    write_random_strings_to_file(file_path, random_strings)\n",
        "\n",
        "    # Convert file to uppercase\n",
        "    convert_file_to_uppercase(file_path)"
      ],
      "metadata": {
        "id": "-2FI_mzM0wrC"
      },
      "execution_count": null,
      "outputs": []
    }
  ]
}